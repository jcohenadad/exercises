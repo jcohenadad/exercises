{
  "nbformat": 4,
  "nbformat_minor": 0,
  "metadata": {
    "colab": {
      "name": "exercises-image-analysis.ipynb",
      "provenance": [],
      "authorship_tag": "ABX9TyM6GO+5BNfO0eAGtqyA6OVy",
      "include_colab_link": true
    },
    "kernelspec": {
      "name": "python3",
      "display_name": "Python 3"
    },
    "language_info": {
      "name": "python"
    }
  },
  "cells": [
    {
      "cell_type": "markdown",
      "metadata": {
        "id": "view-in-github",
        "colab_type": "text"
      },
      "source": [
        "<a href=\"https://colab.research.google.com/github/jcohenadad/exercises/blob/main/nibabel.ipynb\" target=\"_parent\"><img src=\"https://colab.research.google.com/assets/colab-badge.svg\" alt=\"Open In Colab\"/></a>"
      ]
    },
    {
      "cell_type": "markdown",
      "source": [
        "This notebook covers:\n",
        "- neuroimaging data;\n",
        "- NIfTI format\n",
        "- nibabel library\n",
        "- Matrix manipulation\n",
        "- pandas library\n",
        "\n",
        "It is based on https://nipy.org/nibabel/gettingstarted.html\n",
        "\n",
        "Questions start with \"❓\""
      ],
      "metadata": {
        "id": "AAahRTXO3-Cs"
      }
    },
    {
      "cell_type": "code",
      "execution_count": 5,
      "metadata": {
        "id": "GQO7ehSv3lnJ"
      },
      "outputs": [],
      "source": [
        "import os\n",
        "import numpy as np\n",
        "import nibabel as nib"
      ]
    },
    {
      "cell_type": "markdown",
      "source": [
        "Import example data"
      ],
      "metadata": {
        "id": "6hxsMPIL3ylT"
      }
    },
    {
      "cell_type": "code",
      "source": [
        "from nibabel.testing import data_path\n",
        "example_filename = os.path.join(data_path, 'example4d.nii.gz')"
      ],
      "metadata": {
        "id": "BFWIi3zK3xY-"
      },
      "execution_count": 6,
      "outputs": []
    },
    {
      "cell_type": "markdown",
      "source": [
        "Load 4D image. Check its size"
      ],
      "metadata": {
        "id": "CO71Ty5S4oh3"
      }
    },
    {
      "cell_type": "code",
      "source": [
        "img = nib.load(example_filename)\n",
        "img.shape"
      ],
      "metadata": {
        "colab": {
          "base_uri": "https://localhost:8080/"
        },
        "id": "vGJ5WdiC4wUg",
        "outputId": "66d5a6ef-aaf9-4669-9428-7f1fedd53fd5"
      },
      "execution_count": 7,
      "outputs": [
        {
          "output_type": "execute_result",
          "data": {
            "text/plain": [
              "(128, 96, 24, 2)"
            ]
          },
          "metadata": {},
          "execution_count": 7
        }
      ]
    },
    {
      "cell_type": "markdown",
      "source": [
        "The dimensions are: x, y, z, t. There are two MRI volumes acquired back-to-back. "
      ],
      "metadata": {
        "id": "gocHqneJ5Whj"
      }
    },
    {
      "cell_type": "markdown",
      "source": [
        "❓ *Display the mid-sagittal view of the first volume. Use grayscale and make sure the image is displayed with the proper ratio.*"
      ],
      "metadata": {
        "id": "rsDJZlzZ5irL"
      }
    }
  ]
}